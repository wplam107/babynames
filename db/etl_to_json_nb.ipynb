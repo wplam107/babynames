{
 "cells": [
  {
   "cell_type": "markdown",
   "id": "moderate-river",
   "metadata": {},
   "source": [
    "# Minimizing Row Size of Database\n",
    "- Heroku PostgreSQL has a limit of 1GB and 10000 rows.\n",
    "- Convert 610k+ rows of baby names to 1842 rows of distinct baby names.\n",
    "- Name entries will be stored in Postgres database as JSON data types."
   ]
  },
  {
   "cell_type": "code",
   "execution_count": 1,
   "id": "linear-forward",
   "metadata": {
    "ExecuteTime": {
     "end_time": "2021-03-17T22:39:11.711874Z",
     "start_time": "2021-03-17T22:39:11.489349Z"
    }
   },
   "outputs": [],
   "source": [
    "import sqlalchemy as sa\n",
    "from sqlalchemy import create_engine\n",
    "from sqlalchemy.orm import sessionmaker\n",
    "\n",
    "from config import DATABASE_URI\n",
    "from models import NameEntry\n",
    "\n",
    "import us"
   ]
  },
  {
   "cell_type": "code",
   "execution_count": 2,
   "id": "successful-heading",
   "metadata": {
    "ExecuteTime": {
     "end_time": "2021-03-17T22:39:11.771178Z",
     "start_time": "2021-03-17T22:39:11.714360Z"
    }
   },
   "outputs": [],
   "source": [
    "# Create PostgreSQL database connection with SQLAlchemy\n",
    "engine = create_engine(DATABASE_URI)\n",
    "Session = sessionmaker(bind=engine)"
   ]
  },
  {
   "cell_type": "code",
   "execution_count": 3,
   "id": "third-fundamental",
   "metadata": {
    "ExecuteTime": {
     "end_time": "2021-03-17T22:39:11.780932Z",
     "start_time": "2021-03-17T22:39:11.776198Z"
    }
   },
   "outputs": [],
   "source": [
    "def get_totals(name):\n",
    "    '''\n",
    "    Function to retrieve name entries.\n",
    "    '''\n",
    "    \n",
    "    s = Session()\n",
    "    q = s.query(NameEntry).\\\n",
    "    filter(NameEntry.name == name).\\\n",
    "    all()\n",
    "    \n",
    "    s.close()\n",
    "\n",
    "    return [\n",
    "        {'state': v.state,\n",
    "         'year': v.year,\n",
    "         'name': v.name,\n",
    "         'gender': v.gender,\n",
    "         'births': v.births}\n",
    "        for v in q\n",
    "    ]"
   ]
  },
  {
   "cell_type": "code",
   "execution_count": 4,
   "id": "suspended-house",
   "metadata": {
    "ExecuteTime": {
     "end_time": "2021-03-17T22:39:12.250053Z",
     "start_time": "2021-03-17T22:39:11.783633Z"
    }
   },
   "outputs": [
    {
     "name": "stdout",
     "output_type": "stream",
     "text": [
      "Number of Entries: 1543\n",
      "{'state': 'Alabama', 'year': 2019, 'name': 'Logan', 'gender': 'Male', 'births': 129}\n"
     ]
    }
   ],
   "source": [
    "# Sample\n",
    "sample = get_totals('Logan')\n",
    "print('Number of Entries:', len(sample))\n",
    "print(sample[0])"
   ]
  },
  {
   "cell_type": "markdown",
   "id": "streaming-gates",
   "metadata": {},
   "source": [
    "## JSON Format\n",
    "The JSON format of the data will be as follows:\n",
    "```\n",
    "{\n",
    "  \"Female\": {\n",
    "    \"Alabama\": {\n",
    "      \"1960\": <births>\n",
    "      ...\n",
    "    },\n",
    "    ...\n",
    "  },\n",
    "  \"Male\": ...\n",
    "}\n",
    "```"
   ]
  },
  {
   "cell_type": "code",
   "execution_count": 5,
   "id": "resistant-fashion",
   "metadata": {
    "ExecuteTime": {
     "end_time": "2021-03-17T22:39:12.257567Z",
     "start_time": "2021-03-17T22:39:12.252462Z"
    }
   },
   "outputs": [],
   "source": [
    "def to_json(name_data):\n",
    "    '''\n",
    "    Function to convert name entries into a single JSON by name\n",
    "    '''\n",
    "    \n",
    "    states = [ state.name for state in us.states.STATES ] + ['District of Columbia']\n",
    "    json_data = {\n",
    "        \"Female\": { f\"{state}\": {} for state in states },\n",
    "        \"Male\": { f\"{state}\": {} for state in states }\n",
    "    }\n",
    "\n",
    "    for entry in name_data:\n",
    "        json_data[entry['gender']][entry['state']][f\"{entry['year']}\"] = entry['births']\n",
    "        \n",
    "    return json_data"
   ]
  },
  {
   "cell_type": "code",
   "execution_count": 6,
   "id": "emerging-amount",
   "metadata": {
    "ExecuteTime": {
     "end_time": "2021-03-17T22:39:12.271485Z",
     "start_time": "2021-03-17T22:39:12.259713Z"
    },
    "scrolled": false
   },
   "outputs": [
    {
     "data": {
      "text/plain": [
       "{'2008': 12, '2004': 15, '2003': 11}"
      ]
     },
     "execution_count": 6,
     "metadata": {},
     "output_type": "execute_result"
    }
   ],
   "source": [
    "# Sample\n",
    "sample_json = to_json(sample)\n",
    "sample_json['Female']['Hawaii']"
   ]
  },
  {
   "cell_type": "code",
   "execution_count": null,
   "id": "alike-blend",
   "metadata": {},
   "outputs": [],
   "source": []
  }
 ],
 "metadata": {
  "kernelspec": {
   "display_name": "data-scrape",
   "language": "python",
   "name": "data-scrape"
  },
  "language_info": {
   "codemirror_mode": {
    "name": "ipython",
    "version": 3
   },
   "file_extension": ".py",
   "mimetype": "text/x-python",
   "name": "python",
   "nbconvert_exporter": "python",
   "pygments_lexer": "ipython3",
   "version": "3.9.2"
  },
  "toc": {
   "base_numbering": 1,
   "nav_menu": {},
   "number_sections": false,
   "sideBar": true,
   "skip_h1_title": false,
   "title_cell": "Table of Contents",
   "title_sidebar": "Contents",
   "toc_cell": false,
   "toc_position": {},
   "toc_section_display": true,
   "toc_window_display": false
  }
 },
 "nbformat": 4,
 "nbformat_minor": 5
}
