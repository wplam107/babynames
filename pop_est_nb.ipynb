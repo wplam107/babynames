{
 "cells": [
  {
   "cell_type": "code",
   "execution_count": 1,
   "id": "linear-forward",
   "metadata": {
    "ExecuteTime": {
     "end_time": "2021-03-16T04:00:07.262418Z",
     "start_time": "2021-03-16T04:00:05.072619Z"
    }
   },
   "outputs": [],
   "source": [
    "import sqlalchemy as sa\n",
    "from sqlalchemy import func\n",
    "from sqlalchemy import create_engine\n",
    "from sqlalchemy.orm import sessionmaker\n",
    "\n",
    "from config import DATABASE_URI\n",
    "from models import NameEntry, StateEntry\n",
    "\n",
    "import numpy as np\n",
    "import pandas as pd\n",
    "import seaborn as sns\n",
    "import matplotlib.pyplot as plt\n",
    "\n",
    "import us"
   ]
  },
  {
   "cell_type": "markdown",
   "id": "comparative-twenty",
   "metadata": {},
   "source": [
    "## Extract Data From PostgreSQL Database\n",
    "- Data: [Wikipedia](https://en.wikipedia.org/wiki/List_of_U.S._states_and_territories_by_historical_population)\n",
    "- Scraping script: ```db_population_script.py```"
   ]
  },
  {
   "cell_type": "code",
   "execution_count": 2,
   "id": "limiting-midnight",
   "metadata": {
    "ExecuteTime": {
     "end_time": "2021-03-16T04:00:07.342264Z",
     "start_time": "2021-03-16T04:00:07.264876Z"
    }
   },
   "outputs": [],
   "source": [
    "# Create PostgreSQL database connection with SQLAlchemy\n",
    "engine = create_engine(DATABASE_URI)\n",
    "Session = sessionmaker(bind=engine)"
   ]
  },
  {
   "cell_type": "code",
   "execution_count": 3,
   "id": "italic-canvas",
   "metadata": {
    "ExecuteTime": {
     "end_time": "2021-03-16T04:00:07.477953Z",
     "start_time": "2021-03-16T04:00:07.345098Z"
    }
   },
   "outputs": [],
   "source": [
    "# Get data from database\n",
    "s = Session()\n",
    "q = s.query(StateEntry.state, StateEntry.year, StateEntry.population).all()\n",
    "s.close()\n",
    "\n",
    "# Convert to DataFrame\n",
    "pops = [ {'state': v[0], 'year': v[1], 'population': v[2]} for v in q ]\n",
    "pops = pd.DataFrame(pops)"
   ]
  },
  {
   "cell_type": "code",
   "execution_count": 4,
   "id": "neural-conducting",
   "metadata": {
    "ExecuteTime": {
     "end_time": "2021-03-16T04:00:07.495792Z",
     "start_time": "2021-03-16T04:00:07.480269Z"
    }
   },
   "outputs": [
    {
     "data": {
      "text/html": [
       "<div>\n",
       "<style scoped>\n",
       "    .dataframe tbody tr th:only-of-type {\n",
       "        vertical-align: middle;\n",
       "    }\n",
       "\n",
       "    .dataframe tbody tr th {\n",
       "        vertical-align: top;\n",
       "    }\n",
       "\n",
       "    .dataframe thead th {\n",
       "        text-align: right;\n",
       "    }\n",
       "</style>\n",
       "<table border=\"1\" class=\"dataframe\">\n",
       "  <thead>\n",
       "    <tr style=\"text-align: right;\">\n",
       "      <th></th>\n",
       "      <th>state</th>\n",
       "      <th>year</th>\n",
       "      <th>population</th>\n",
       "    </tr>\n",
       "  </thead>\n",
       "  <tbody>\n",
       "    <tr>\n",
       "      <th>0</th>\n",
       "      <td>Alabama</td>\n",
       "      <td>1960</td>\n",
       "      <td>3266740</td>\n",
       "    </tr>\n",
       "    <tr>\n",
       "      <th>1</th>\n",
       "      <td>Alabama</td>\n",
       "      <td>1970</td>\n",
       "      <td>3444165</td>\n",
       "    </tr>\n",
       "    <tr>\n",
       "      <th>2</th>\n",
       "      <td>Alabama</td>\n",
       "      <td>1980</td>\n",
       "      <td>3893888</td>\n",
       "    </tr>\n",
       "  </tbody>\n",
       "</table>\n",
       "</div>"
      ],
      "text/plain": [
       "     state  year  population\n",
       "0  Alabama  1960     3266740\n",
       "1  Alabama  1970     3444165\n",
       "2  Alabama  1980     3893888"
      ]
     },
     "execution_count": 4,
     "metadata": {},
     "output_type": "execute_result"
    }
   ],
   "source": [
    "# Sample\n",
    "pops.head(3)"
   ]
  },
  {
   "cell_type": "markdown",
   "id": "ongoing-iceland",
   "metadata": {},
   "source": [
    "## Estimate Population from Data\n",
    "- Create function to estimate state populations for years in between census years."
   ]
  },
  {
   "cell_type": "code",
   "execution_count": 5,
   "id": "traditional-bernard",
   "metadata": {
    "ExecuteTime": {
     "end_time": "2021-03-16T04:00:07.775729Z",
     "start_time": "2021-03-16T04:00:07.768283Z"
    }
   },
   "outputs": [],
   "source": [
    "def get_pop_est(state):\n",
    "    '''\n",
    "    Function to create population estimates between census years\n",
    "    '''\n",
    "    \n",
    "    years_ = range(1960, 2010)\n",
    "    ps = np.array(pops.loc[pops['state'] == state]['population'])\n",
    "    \n",
    "    # Population slope between census data years\n",
    "    ms = np.diff(ps) / 10\n",
    "    \n",
    "    # Initial population of decade\n",
    "    cs = ps[:-1]\n",
    "    \n",
    "    # Create estimates through matrix operations\n",
    "    ests = np.round((np.arange(0, 10).reshape(-1, 1) * ms + np.ones(10).reshape(-1,1) * cs)).T\n",
    "    \n",
    "    ests = [\n",
    "        {'state': state, 'year': year, 'population': int(est)}\n",
    "        for year, est in zip(years_, ests.flatten())\n",
    "    ]\n",
    "    \n",
    "    return ests"
   ]
  },
  {
   "cell_type": "code",
   "execution_count": 6,
   "id": "harmful-registrar",
   "metadata": {
    "ExecuteTime": {
     "end_time": "2021-03-16T04:00:08.782949Z",
     "start_time": "2021-03-16T04:00:08.776343Z"
    }
   },
   "outputs": [
    {
     "data": {
      "text/plain": [
       "[{'state': 'New York', 'year': 1960, 'population': 16782304},\n",
       " {'state': 'New York', 'year': 1961, 'population': 16927770},\n",
       " {'state': 'New York', 'year': 1962, 'population': 17073237},\n",
       " {'state': 'New York', 'year': 1963, 'population': 17218703},\n",
       " {'state': 'New York', 'year': 1964, 'population': 17364169}]"
      ]
     },
     "execution_count": 6,
     "metadata": {},
     "output_type": "execute_result"
    }
   ],
   "source": [
    "# Sample\n",
    "get_pop_est('New York')[:5]"
   ]
  },
  {
   "cell_type": "markdown",
   "id": "sustained-trade",
   "metadata": {},
   "source": [
    "## Extract and Clean Data\n",
    "- Data from: [US Census Bureau - State Populations + DC (2010-2019)](https://www.census.gov/data/tables/time-series/demo/popest/2010s-state-total.html)"
   ]
  },
  {
   "cell_type": "code",
   "execution_count": 7,
   "id": "happy-dublin",
   "metadata": {
    "ExecuteTime": {
     "end_time": "2021-03-16T04:00:09.972570Z",
     "start_time": "2021-03-16T04:00:09.969272Z"
    }
   },
   "outputs": [],
   "source": [
    "# Set states\n",
    "states = [ f'{state.name}' for state in us.states.STATES ] + ['District of Columbia']"
   ]
  },
  {
   "cell_type": "code",
   "execution_count": 8,
   "id": "czech-habitat",
   "metadata": {
    "ExecuteTime": {
     "end_time": "2021-03-16T04:00:10.949945Z",
     "start_time": "2021-03-16T04:00:10.593349Z"
    }
   },
   "outputs": [
    {
     "data": {
      "text/html": [
       "<div>\n",
       "<style scoped>\n",
       "    .dataframe tbody tr th:only-of-type {\n",
       "        vertical-align: middle;\n",
       "    }\n",
       "\n",
       "    .dataframe tbody tr th {\n",
       "        vertical-align: top;\n",
       "    }\n",
       "\n",
       "    .dataframe thead th {\n",
       "        text-align: right;\n",
       "    }\n",
       "</style>\n",
       "<table border=\"1\" class=\"dataframe\">\n",
       "  <thead>\n",
       "    <tr style=\"text-align: right;\">\n",
       "      <th></th>\n",
       "      <th>Unnamed: 1</th>\n",
       "      <th>Unnamed: 2</th>\n",
       "      <th>Unnamed: 3</th>\n",
       "      <th>Unnamed: 4</th>\n",
       "      <th>Unnamed: 5</th>\n",
       "      <th>Unnamed: 6</th>\n",
       "      <th>Unnamed: 7</th>\n",
       "      <th>Unnamed: 8</th>\n",
       "      <th>Unnamed: 9</th>\n",
       "      <th>Unnamed: 10</th>\n",
       "      <th>Unnamed: 11</th>\n",
       "      <th>Unnamed: 12</th>\n",
       "    </tr>\n",
       "    <tr>\n",
       "      <th>table with row headers in column A and column headers in rows 3 through 4. (leading dots indicate sub-parts)</th>\n",
       "      <th></th>\n",
       "      <th></th>\n",
       "      <th></th>\n",
       "      <th></th>\n",
       "      <th></th>\n",
       "      <th></th>\n",
       "      <th></th>\n",
       "      <th></th>\n",
       "      <th></th>\n",
       "      <th></th>\n",
       "      <th></th>\n",
       "      <th></th>\n",
       "    </tr>\n",
       "  </thead>\n",
       "  <tbody>\n",
       "    <tr>\n",
       "      <th>Table 1. Annual Estimates of the Resident Population for the United States, Regions, States, and Puerto Rico: April 1, 2010 to July 1, 2019</th>\n",
       "      <td>NaN</td>\n",
       "      <td>NaN</td>\n",
       "      <td>NaN</td>\n",
       "      <td>NaN</td>\n",
       "      <td>NaN</td>\n",
       "      <td>NaN</td>\n",
       "      <td>NaN</td>\n",
       "      <td>NaN</td>\n",
       "      <td>NaN</td>\n",
       "      <td>NaN</td>\n",
       "      <td>NaN</td>\n",
       "      <td>NaN</td>\n",
       "    </tr>\n",
       "    <tr>\n",
       "      <th>Geographic Area</th>\n",
       "      <td>2010-04-01 00:00:00</td>\n",
       "      <td>NaN</td>\n",
       "      <td>Population Estimate (as of July 1)</td>\n",
       "      <td>NaN</td>\n",
       "      <td>NaN</td>\n",
       "      <td>NaN</td>\n",
       "      <td>NaN</td>\n",
       "      <td>NaN</td>\n",
       "      <td>NaN</td>\n",
       "      <td>NaN</td>\n",
       "      <td>NaN</td>\n",
       "      <td>NaN</td>\n",
       "    </tr>\n",
       "    <tr>\n",
       "      <th>NaN</th>\n",
       "      <td>Census</td>\n",
       "      <td>Estimates Base</td>\n",
       "      <td>2010</td>\n",
       "      <td>2011.0</td>\n",
       "      <td>2012.0</td>\n",
       "      <td>2013.0</td>\n",
       "      <td>2014.0</td>\n",
       "      <td>2015.0</td>\n",
       "      <td>2016.0</td>\n",
       "      <td>2017.0</td>\n",
       "      <td>2018.0</td>\n",
       "      <td>2019.0</td>\n",
       "    </tr>\n",
       "  </tbody>\n",
       "</table>\n",
       "</div>"
      ],
      "text/plain": [
       "                                                             Unnamed: 1  \\\n",
       "table with row headers in column A and column h...                        \n",
       "Table 1. Annual Estimates of the Resident Popul...                  NaN   \n",
       "Geographic Area                                     2010-04-01 00:00:00   \n",
       "NaN                                                              Census   \n",
       "\n",
       "                                                        Unnamed: 2  \\\n",
       "table with row headers in column A and column h...                   \n",
       "Table 1. Annual Estimates of the Resident Popul...             NaN   \n",
       "Geographic Area                                                NaN   \n",
       "NaN                                                 Estimates Base   \n",
       "\n",
       "                                                                            Unnamed: 3  \\\n",
       "table with row headers in column A and column h...                                       \n",
       "Table 1. Annual Estimates of the Resident Popul...                                 NaN   \n",
       "Geographic Area                                     Population Estimate (as of July 1)   \n",
       "NaN                                                                               2010   \n",
       "\n",
       "                                                    Unnamed: 4  Unnamed: 5  \\\n",
       "table with row headers in column A and column h...                           \n",
       "Table 1. Annual Estimates of the Resident Popul...         NaN         NaN   \n",
       "Geographic Area                                            NaN         NaN   \n",
       "NaN                                                     2011.0      2012.0   \n",
       "\n",
       "                                                    Unnamed: 6  Unnamed: 7  \\\n",
       "table with row headers in column A and column h...                           \n",
       "Table 1. Annual Estimates of the Resident Popul...         NaN         NaN   \n",
       "Geographic Area                                            NaN         NaN   \n",
       "NaN                                                     2013.0      2014.0   \n",
       "\n",
       "                                                    Unnamed: 8  Unnamed: 9  \\\n",
       "table with row headers in column A and column h...                           \n",
       "Table 1. Annual Estimates of the Resident Popul...         NaN         NaN   \n",
       "Geographic Area                                            NaN         NaN   \n",
       "NaN                                                     2015.0      2016.0   \n",
       "\n",
       "                                                    Unnamed: 10  Unnamed: 11  \\\n",
       "table with row headers in column A and column h...                             \n",
       "Table 1. Annual Estimates of the Resident Popul...          NaN          NaN   \n",
       "Geographic Area                                             NaN          NaN   \n",
       "NaN                                                      2017.0       2018.0   \n",
       "\n",
       "                                                    Unnamed: 12  \n",
       "table with row headers in column A and column h...               \n",
       "Table 1. Annual Estimates of the Resident Popul...          NaN  \n",
       "Geographic Area                                             NaN  \n",
       "NaN                                                      2019.0  "
      ]
     },
     "execution_count": 8,
     "metadata": {},
     "output_type": "execute_result"
    }
   ],
   "source": [
    "# Load excel file\n",
    "tens = pd.read_excel('data/nst-est2019-01.xlsx', index_col=0) # Note: years in 3rd row\n",
    "tens.head(3)"
   ]
  },
  {
   "cell_type": "code",
   "execution_count": 9,
   "id": "foster-train",
   "metadata": {
    "ExecuteTime": {
     "end_time": "2021-03-16T04:00:12.323121Z",
     "start_time": "2021-03-16T04:00:12.314105Z"
    }
   },
   "outputs": [],
   "source": [
    "# Select rows with states or DC (Example: '.Alabama')\n",
    "tens = tens.loc[[ '.' + state for state in states ]]\n",
    "tens.index.name = 'state'\n",
    "\n",
    "# Select columns with yearly population data and rename columns\n",
    "tens = tens[[ f'Unnamed: {i}' for i in range(3, 13) ]]\n",
    "tens.columns = range(2010, 2020)\n",
    "\n",
    "# Reset index and clean state names\n",
    "tens.reset_index(inplace=True)\n",
    "tens['state'] = [ state[1:] for state in tens['state'] ]"
   ]
  },
  {
   "cell_type": "code",
   "execution_count": 10,
   "id": "round-capacity",
   "metadata": {
    "ExecuteTime": {
     "end_time": "2021-03-16T04:00:14.787246Z",
     "start_time": "2021-03-16T04:00:14.769517Z"
    }
   },
   "outputs": [
    {
     "data": {
      "text/html": [
       "<div>\n",
       "<style scoped>\n",
       "    .dataframe tbody tr th:only-of-type {\n",
       "        vertical-align: middle;\n",
       "    }\n",
       "\n",
       "    .dataframe tbody tr th {\n",
       "        vertical-align: top;\n",
       "    }\n",
       "\n",
       "    .dataframe thead th {\n",
       "        text-align: right;\n",
       "    }\n",
       "</style>\n",
       "<table border=\"1\" class=\"dataframe\">\n",
       "  <thead>\n",
       "    <tr style=\"text-align: right;\">\n",
       "      <th></th>\n",
       "      <th>state</th>\n",
       "      <th>2010</th>\n",
       "      <th>2011</th>\n",
       "      <th>2012</th>\n",
       "      <th>2013</th>\n",
       "      <th>2014</th>\n",
       "      <th>2015</th>\n",
       "      <th>2016</th>\n",
       "      <th>2017</th>\n",
       "      <th>2018</th>\n",
       "      <th>2019</th>\n",
       "    </tr>\n",
       "  </thead>\n",
       "  <tbody>\n",
       "    <tr>\n",
       "      <th>0</th>\n",
       "      <td>Alabama</td>\n",
       "      <td>4785437</td>\n",
       "      <td>4799069.0</td>\n",
       "      <td>4815588.0</td>\n",
       "      <td>4830081.0</td>\n",
       "      <td>4841799.0</td>\n",
       "      <td>4852347.0</td>\n",
       "      <td>4863525.0</td>\n",
       "      <td>4874486.0</td>\n",
       "      <td>4887681.0</td>\n",
       "      <td>4903185.0</td>\n",
       "    </tr>\n",
       "    <tr>\n",
       "      <th>1</th>\n",
       "      <td>Alaska</td>\n",
       "      <td>713910</td>\n",
       "      <td>722128.0</td>\n",
       "      <td>730443.0</td>\n",
       "      <td>737068.0</td>\n",
       "      <td>736283.0</td>\n",
       "      <td>737498.0</td>\n",
       "      <td>741456.0</td>\n",
       "      <td>739700.0</td>\n",
       "      <td>735139.0</td>\n",
       "      <td>731545.0</td>\n",
       "    </tr>\n",
       "    <tr>\n",
       "      <th>2</th>\n",
       "      <td>Arizona</td>\n",
       "      <td>6407172</td>\n",
       "      <td>6472643.0</td>\n",
       "      <td>6554978.0</td>\n",
       "      <td>6632764.0</td>\n",
       "      <td>6730413.0</td>\n",
       "      <td>6829676.0</td>\n",
       "      <td>6941072.0</td>\n",
       "      <td>7044008.0</td>\n",
       "      <td>7158024.0</td>\n",
       "      <td>7278717.0</td>\n",
       "    </tr>\n",
       "  </tbody>\n",
       "</table>\n",
       "</div>"
      ],
      "text/plain": [
       "     state     2010       2011       2012       2013       2014       2015  \\\n",
       "0  Alabama  4785437  4799069.0  4815588.0  4830081.0  4841799.0  4852347.0   \n",
       "1   Alaska   713910   722128.0   730443.0   737068.0   736283.0   737498.0   \n",
       "2  Arizona  6407172  6472643.0  6554978.0  6632764.0  6730413.0  6829676.0   \n",
       "\n",
       "        2016       2017       2018       2019  \n",
       "0  4863525.0  4874486.0  4887681.0  4903185.0  \n",
       "1   741456.0   739700.0   735139.0   731545.0  \n",
       "2  6941072.0  7044008.0  7158024.0  7278717.0  "
      ]
     },
     "execution_count": 10,
     "metadata": {},
     "output_type": "execute_result"
    }
   ],
   "source": [
    "# Sample\n",
    "tens.head(3)"
   ]
  },
  {
   "cell_type": "code",
   "execution_count": 11,
   "id": "animal-typing",
   "metadata": {
    "ExecuteTime": {
     "end_time": "2021-03-16T04:00:15.532199Z",
     "start_time": "2021-03-16T04:00:15.521974Z"
    }
   },
   "outputs": [],
   "source": [
    "# Make DataFrame wide to long\n",
    "df = tens.melt(id_vars='state', value_vars=range(2010, 2020), var_name='year', value_name='population')"
   ]
  },
  {
   "cell_type": "code",
   "execution_count": 12,
   "id": "heated-nursing",
   "metadata": {
    "ExecuteTime": {
     "end_time": "2021-03-16T04:00:16.755443Z",
     "start_time": "2021-03-16T04:00:16.745967Z"
    }
   },
   "outputs": [
    {
     "data": {
      "text/html": [
       "<div>\n",
       "<style scoped>\n",
       "    .dataframe tbody tr th:only-of-type {\n",
       "        vertical-align: middle;\n",
       "    }\n",
       "\n",
       "    .dataframe tbody tr th {\n",
       "        vertical-align: top;\n",
       "    }\n",
       "\n",
       "    .dataframe thead th {\n",
       "        text-align: right;\n",
       "    }\n",
       "</style>\n",
       "<table border=\"1\" class=\"dataframe\">\n",
       "  <thead>\n",
       "    <tr style=\"text-align: right;\">\n",
       "      <th></th>\n",
       "      <th>state</th>\n",
       "      <th>year</th>\n",
       "      <th>population</th>\n",
       "    </tr>\n",
       "  </thead>\n",
       "  <tbody>\n",
       "    <tr>\n",
       "      <th>0</th>\n",
       "      <td>Alabama</td>\n",
       "      <td>2010</td>\n",
       "      <td>4785437</td>\n",
       "    </tr>\n",
       "    <tr>\n",
       "      <th>1</th>\n",
       "      <td>Alaska</td>\n",
       "      <td>2010</td>\n",
       "      <td>713910</td>\n",
       "    </tr>\n",
       "    <tr>\n",
       "      <th>2</th>\n",
       "      <td>Arizona</td>\n",
       "      <td>2010</td>\n",
       "      <td>6407172</td>\n",
       "    </tr>\n",
       "  </tbody>\n",
       "</table>\n",
       "</div>"
      ],
      "text/plain": [
       "     state  year population\n",
       "0  Alabama  2010    4785437\n",
       "1   Alaska  2010     713910\n",
       "2  Arizona  2010    6407172"
      ]
     },
     "execution_count": 12,
     "metadata": {},
     "output_type": "execute_result"
    }
   ],
   "source": [
    "# Sample\n",
    "df.head(3)"
   ]
  },
  {
   "cell_type": "code",
   "execution_count": 13,
   "id": "democratic-device",
   "metadata": {
    "ExecuteTime": {
     "end_time": "2021-03-16T04:00:49.563263Z",
     "start_time": "2021-03-16T04:00:49.407659Z"
    }
   },
   "outputs": [],
   "source": [
    "# Concat estimates onto US Census Bureau data\n",
    "for state in states:\n",
    "    df = pd.concat([df, pd.DataFrame(get_pop_est(state))], ignore_index=True)"
   ]
  },
  {
   "cell_type": "code",
   "execution_count": 14,
   "id": "random-cycle",
   "metadata": {
    "ExecuteTime": {
     "end_time": "2021-03-16T04:00:52.751843Z",
     "start_time": "2021-03-16T04:00:52.505093Z"
    },
    "scrolled": true
   },
   "outputs": [
    {
     "data": {
      "image/png": "[encoded data removed]",
      "text/plain": [
       "<Figure size 432x288 with 1 Axes>"
      ]
     },
     "metadata": {
      "needs_background": "light"
     },
     "output_type": "display_data"
    }
   ],
   "source": [
    "# Sample\n",
    "sns.scatterplot(data=df.loc[df['state'] == 'New York'], x='year', y='population')\n",
    "plt.show()"
   ]
  },
  {
   "cell_type": "markdown",
   "id": "informal-extent",
   "metadata": {},
   "source": [
    "## Load Data to New Table\n",
    "- Create ```pop_est``` table."
   ]
  },
  {
   "cell_type": "code",
   "execution_count": null,
   "id": "associate-intellectual",
   "metadata": {},
   "outputs": [],
   "source": []
  }
 ],
 "metadata": {
  "kernelspec": {
   "display_name": "data-scrape",
   "language": "python",
   "name": "data-scrape"
  },
  "language_info": {
   "codemirror_mode": {
    "name": "ipython",
    "version": 3
   },
   "file_extension": ".py",
   "mimetype": "text/x-python",
   "name": "python",
   "nbconvert_exporter": "python",
   "pygments_lexer": "ipython3",
   "version": "3.9.2"
  },
  "toc": {
   "base_numbering": 1,
   "nav_menu": {},
   "number_sections": false,
   "sideBar": true,
   "skip_h1_title": false,
   "title_cell": "Table of Contents",
   "title_sidebar": "Contents",
   "toc_cell": false,
   "toc_position": {},
   "toc_section_display": true,
   "toc_window_display": false
  }
 },
 "nbformat": 4,
 "nbformat_minor": 5
}
